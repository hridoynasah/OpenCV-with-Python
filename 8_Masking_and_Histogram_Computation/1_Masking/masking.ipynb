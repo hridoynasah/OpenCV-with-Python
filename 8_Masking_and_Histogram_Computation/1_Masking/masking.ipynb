{
 "cells": [
  {
   "cell_type": "code",
   "execution_count": 1,
   "id": "a952f735",
   "metadata": {},
   "outputs": [
    {
     "data": {
      "text/plain": [
       "-1"
      ]
     },
     "execution_count": 1,
     "metadata": {},
     "output_type": "execute_result"
    }
   ],
   "source": [
    "import cv2 as cv\n",
    "import numpy as np\n",
    "\n",
    "img = cv.imread('Kashmir.jpg')\n",
    "\n",
    "cv.imshow('Kashmir', img)\n",
    "\n",
    "blank = np.zeros(img.shape[:2], dtype='uint8')\n",
    "cv.imshow('Blank Image', blank)\n",
    "\n",
    "mask = cv.circle(blank, (img.shape[1]//2, img.shape[0]//2), 100, 255, -1)\n",
    "cv.imshow('Mask', mask)\n",
    "\n",
    "masked = cv.bitwise_and(img, img, mask=mask)\n",
    "cv.imshow('Masked Image', masked)\n",
    "\n",
    "cv.waitKey(0)"
   ]
  },
  {
   "cell_type": "code",
   "execution_count": null,
   "id": "a31841cd",
   "metadata": {},
   "outputs": [],
   "source": [
    "import cv2 as cv\n",
    "import numpy as np\n",
    "\n",
    "img = cv.imread('Kashmir.jpg')\n",
    "\n",
    "cv.imshow('Kashmir', img)\n",
    "\n",
    "blank = np.zeros(img.shape[:2], dtype='uint8')\n",
    "cv.imshow('Blank Image', blank)\n",
    "\n",
    "mask = cv.circle(blank, [img.shape[1]//2 + 45, img.shape[0]//2], 100, 255, -1)\n",
    "cv.imshow('Mask', mask)\n",
    "\n",
    "masked = cv.bitwise_and(img, img, mask=mask)\n",
    "cv.imshow('Masked Image', masked)\n",
    "\n",
    "cv.waitKey(0)"
   ]
  },
  {
   "cell_type": "code",
   "execution_count": null,
   "id": "288b3bdb",
   "metadata": {},
   "outputs": [],
   "source": [
    "import cv2 as cv\n",
    "\n",
    "img = cv.imread('Kashmir.jpg')\n",
    "\n",
    "cv.imshow('Kashmir', img)\n",
    "\n",
    "blank = np.zeros(img.shape[:2], dtype='uint8')\n",
    "cv.imshow('Blank Image', blank)\n",
    "\n",
    "mask = cv.rectangle(blank, (img.shape[1]//2, img.shape[0]//2), [img.shape[1]//2 + 100, img.shape[0]//2 + 100], 255, -1)\n",
    "cv.imshow('Mask', mask)\n",
    "\n",
    "masked = cv.bitwise_and(img, img, mask=mask)\n",
    "cv.imshow('Masked Image', masked)\n",
    "\n",
    "cv.waitKey(0)"
   ]
  },
  {
   "cell_type": "code",
   "execution_count": null,
   "id": "0b3dba20",
   "metadata": {},
   "outputs": [],
   "source": [
    "import cv2 as cv\n",
    "\n",
    "img = cv.imread('Kashmir.jpg')\n",
    "\n",
    "cv.imshow('Kashmir', img)\n",
    "\n",
    "circle = cv.circle(blank.copy(), (img.shape[1]//2 + 45, img.shape[0]//2), 100, 255, -1)\n",
    "\n",
    "rectangle = cv.rectangle(blank.copy(), (30, 30), (370, 370), 255, -1)\n",
    "\n",
    "weird_shape = cv.bitwise_and(circle, rectangle)\n",
    "cv.imshow('Weird Shape', weird_shape)\n",
    "\n",
    "masked = cv.bitwise_and(img, img, mask=weird_shape)\n",
    "cv.imshow('Masked Image', masked)\n",
    "\n",
    "cv.waitKey(0)"
   ]
  }
 ],
 "metadata": {
  "kernelspec": {
   "display_name": "base",
   "language": "python",
   "name": "python3"
  },
  "language_info": {
   "codemirror_mode": {
    "name": "ipython",
    "version": 3
   },
   "file_extension": ".py",
   "mimetype": "text/x-python",
   "name": "python",
   "nbconvert_exporter": "python",
   "pygments_lexer": "ipython3",
   "version": "3.12.7"
  }
 },
 "nbformat": 4,
 "nbformat_minor": 5
}
