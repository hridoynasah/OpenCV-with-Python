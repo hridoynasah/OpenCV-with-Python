{
 "cells": [
  {
   "cell_type": "markdown",
   "id": "95016d04",
   "metadata": {},
   "source": [
    "**Example of `.copy` function:**"
   ]
  },
  {
   "cell_type": "code",
   "execution_count": null,
   "id": "12dfe5db",
   "metadata": {},
   "outputs": [
    {
     "name": "stdout",
     "output_type": "stream",
     "text": [
      "[10, 20, 30, 40] <class 'list'>\n"
     ]
    }
   ],
   "source": [
    "import cv2 as cv \n",
    "import numpy as np\n",
    "\n",
    "blank_img = np.zeros((500, 500), dtype = 'uint8')\n",
    "cv.imshow('Blank image', blank_img)\n",
    "\n",
    "my_img = blank_img.copy()\n",
    "cv.imshow('my image', my_img)\n",
    "\n",
    "l = [10, 20, 30, 40]\n",
    "l_l = l.copy()\n",
    "print(l_l, type(l_l))\n",
    "\n",
    "cv.waitKey(0)"
   ]
  },
  {
   "cell_type": "code",
   "execution_count": 1,
   "id": "48a148d0",
   "metadata": {},
   "outputs": [
    {
     "name": "stdout",
     "output_type": "stream",
     "text": [
      "0\n",
      "1\n",
      "2\n",
      "3\n"
     ]
    }
   ],
   "source": [
    "jani_na = ['Moon, ', \"please\", \"don't\", \"worry.\"]\n",
    "\n",
    "for _ in jani_na:\n",
    "    ki_jano = jani_na.index(_)\n",
    "    print(ki_jano)"
   ]
  },
  {
   "cell_type": "code",
   "execution_count": 4,
   "id": "d6f5e543",
   "metadata": {},
   "outputs": [
    {
     "data": {
      "text/plain": [
       "1"
      ]
     },
     "execution_count": 4,
     "metadata": {},
     "output_type": "execute_result"
    }
   ],
   "source": [
    "jani_na = [\"Moon, \", \"please\", \"don't\", \"worry.\"]\n",
    "idx = jani_na.index(\"please\")\n",
    "idx"
   ]
  },
  {
   "cell_type": "code",
   "execution_count": 5,
   "id": "7110508f",
   "metadata": {},
   "outputs": [
    {
     "name": "stdout",
     "output_type": "stream",
     "text": [
      "x: 1, y: 2, w: 3, h: 4\n",
      "x: 5, y: 6, w: 7, h: 8\n",
      "x: 9, y: 10, w: 11, h: 12\n"
     ]
    }
   ],
   "source": [
    "# List of tuples, each with 4 values\n",
    "List = [(1, 2, 3, 4), (5, 6, 7, 8), (9, 10, 11, 12)]\n",
    "\n",
    "# Loop to unpack each tuple into x, y, w, h\n",
    "for (x, y, w, h) in List:\n",
    "    print(f\"x: {x}, y: {y}, w: {w}, h: {h}\")"
   ]
  }
 ],
 "metadata": {
  "kernelspec": {
   "display_name": "base",
   "language": "python",
   "name": "python3"
  },
  "language_info": {
   "codemirror_mode": {
    "name": "ipython",
    "version": 3
   },
   "file_extension": ".py",
   "mimetype": "text/x-python",
   "name": "python",
   "nbconvert_exporter": "python",
   "pygments_lexer": "ipython3",
   "version": "3.12.7"
  }
 },
 "nbformat": 4,
 "nbformat_minor": 5
}
