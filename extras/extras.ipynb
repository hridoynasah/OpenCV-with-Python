{
 "cells": [
  {
   "cell_type": "markdown",
   "id": "95016d04",
   "metadata": {},
   "source": [
    "**Example of `.copy` function:**"
   ]
  },
  {
   "cell_type": "code",
   "execution_count": null,
   "id": "12dfe5db",
   "metadata": {},
   "outputs": [
    {
     "name": "stdout",
     "output_type": "stream",
     "text": [
      "[10, 20, 30, 40] <class 'list'>\n"
     ]
    }
   ],
   "source": [
    "import cv2 as cv \n",
    "import numpy as np\n",
    "\n",
    "blank_img = np.zeros((500, 500), dtype = 'uint8')\n",
    "cv.imshow('Blank image', blank_img)\n",
    "\n",
    "my_img = blank_img.copy()\n",
    "cv.imshow('my image', my_img)\n",
    "\n",
    "l = [10, 20, 30, 40]\n",
    "l_l = l.copy()\n",
    "print(l_l, type(l_l))\n",
    "\n",
    "cv.waitKey(0)"
   ]
  }
 ],
 "metadata": {
  "kernelspec": {
   "display_name": "base",
   "language": "python",
   "name": "python3"
  },
  "language_info": {
   "codemirror_mode": {
    "name": "ipython",
    "version": 3
   },
   "file_extension": ".py",
   "mimetype": "text/x-python",
   "name": "python",
   "nbconvert_exporter": "python",
   "pygments_lexer": "ipython3",
   "version": "3.12.7"
  }
 },
 "nbformat": 4,
 "nbformat_minor": 5
}
